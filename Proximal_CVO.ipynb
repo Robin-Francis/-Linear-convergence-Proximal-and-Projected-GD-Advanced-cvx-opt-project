{
  "nbformat": 4,
  "nbformat_minor": 0,
  "metadata": {
    "colab": {
      "name": "Proximal CVO.ipynb",
      "provenance": []
    },
    "kernelspec": {
      "name": "python3",
      "display_name": "Python 3"
    },
    "language_info": {
      "name": "python"
    }
  },
  "cells": [
    {
      "cell_type": "code",
      "execution_count": 1,
      "metadata": {
        "id": "U4mDIkTUHzY3"
      },
      "outputs": [],
      "source": [
        "import numpy as np\n",
        "import matplotlib.pyplot as plt\n",
        "from google.colab import files\n",
        "import pandas as pd\n",
        "from sklearn.linear_model import Lasso\n",
        "from sklearn.linear_model import Ridge\n",
        "from scipy.sparse.linalg import svds"
      ]
    },
    {
      "cell_type": "markdown",
      "source": [
        "Consider the following LASSO problem\n",
        "$$\n",
        "\\underset{\\bf x}{\\rm minimize} \\,\\,  \\frac{1}{2}\\| {\\bf A}{\\bf x} - {\\bf b}\\|_2^2 +  \\| {\\bf x}\\|_1 \n",
        "$$\n",
        "with variable ${\\bf x} \\in \\mathbb{R}^d$. "
      ],
      "metadata": {
        "id": "BJs2FlFE5brx"
      }
    },
    {
      "cell_type": "code",
      "source": [
        "def Lasso_function(A,x,y):\n",
        "  f1 = 0.5*np.linalg.norm(np.dot(A,x) - y)**2 + np.linalg.norm(x,1)\n",
        "  return f1"
      ],
      "metadata": {
        "id": "-Yzkl3P6IuOS"
      },
      "execution_count": 12,
      "outputs": []
    },
    {
      "cell_type": "code",
      "source": [
        "def Lasso_gradient_f(A,x,y):\n",
        "  g1 = np.dot(A.T,(np.dot(A,x)-y))\n",
        "  return g1"
      ],
      "metadata": {
        "id": "uV4FDu0AJnue"
      },
      "execution_count": 3,
      "outputs": []
    },
    {
      "cell_type": "code",
      "source": [
        "def Lasso_prox_operator(x,alpha):\n",
        "  return np.sign(x) * np.maximum(abs(x) - alpha* lr, 0)"
      ],
      "metadata": {
        "id": "vsWqCRvpKL3Y"
      },
      "execution_count": 4,
      "outputs": []
    },
    {
      "cell_type": "code",
      "source": [
        "## sythentic data generation\n",
        "\n",
        "n = 10             ## dimension of feature vector\n",
        "np.random.seed(20)\n",
        "A = np.random.randn(n,n) ## Data matrix\n",
        "# x_true = 5*np.random.randn(n)*np.random.randint(0,2,n)*np.random.randint(0,2,n)\n",
        "y = np.random.randn(n)"
      ],
      "metadata": {
        "id": "Q1n9nv3jKj0F"
      },
      "execution_count": 5,
      "outputs": []
    },
    {
      "cell_type": "code",
      "source": [
        "## LASSO solution using sklearn\n",
        "\n",
        "def Lasso_sklearn(A,y):\n",
        "  model = Lasso(alpha = 0.1)\n",
        "  model.fit(A,y)\n",
        "  x_lasso = model.coef_\n",
        "  Lasso_f_opt = Lasso_function(A,x_lasso,y)\n",
        "  print('The optimal value = ',Lasso_f_opt)\n",
        "  return Lasso_f_opt, x_lasso"
      ],
      "metadata": {
        "id": "jZMyM0N7NS0T"
      },
      "execution_count": 8,
      "outputs": []
    },
    {
      "cell_type": "code",
      "source": [
        "### proximal GD\n",
        "iterations = 1000\n",
        "np.random.seed(20)\n",
        "Lasso_f_opt, x_lasso = Lasso_sklearn(A,y)\n",
        "x = 20*np.random.randn(iterations,n)  ## random initialization\n",
        "Lasso_fun_val = np.zeros(iterations)  ## variable to store function value\n",
        "Lasso_iterate_val = np.zeros(iterations)  ## Variable to store iterate convergence\n",
        "alpha = .1       ## Hyper parameter for Prox GD\n",
        "lr = 0.0003      ## Learning rate\n",
        "Lasso_fun_val[0] = Lasso_function(A,x[0],y)\n",
        "Lasso_iterate_val[0] = np.linalg.norm(x[0],2)**2\n",
        "for i in range(1,iterations):\n",
        "  # lr = lr1*2/(i+2)\n",
        "  x1 = x[i-1] - lr*Lasso_gradient_f(A,x[i-1],y)  ## GD update\n",
        "  x[i] = Lasso_prox_operator(x1,alpha)           ## Prox operator\n",
        "  Lasso_fun_val[i] = Lasso_function(A,x[i],y)\n",
        "  Lasso_iterate_val[i] = np.linalg.norm((x[i]-x[i-1]),2)**2 \n",
        "\n",
        "axis = np.linspace(0,iterations-1,iterations)\n",
        "plt.semilogy(axis,np.abs(Lasso_fun_val -Lasso_f_opt)/Lasso_fun_val[0])\n",
        "plt.xlim([1,iterations])\n",
        "plt.xlabel('Iterations')\n",
        "plt.ylabel(r'$\\frac{f(x_k) - f^*}{f(x_0)}$')\n",
        "plt.title('Suboptimality gap')\n",
        "plt.savefig('Suboptimality_gap_LASSO_synthetic.eps')\n",
        "# files.download('Suboptimality_gap_LASSO_synthetic.eps')\n",
        "\n",
        "plt.figure()\n",
        "plt.semilogy(axis,Lasso_iterate_val)\n",
        "plt.xlim([0,iterations])\n",
        "plt.ylim([1e-5,1e-1])\n",
        "plt.xlabel('Iterations')\n",
        "plt.ylabel(r'${||x_k - x_{k-1}||_2^2}$')\n",
        "plt.title('Iterate convergence')\n",
        "plt.savefig('Iterate_convergence_LASSO_synthetic.eps')\n",
        "# files.download('Iterate_convergence_LASSO_synthetic.eps')"
      ],
      "metadata": {
        "colab": {
          "base_uri": "https://localhost:8080/",
          "height": 591
        },
        "id": "kT08o9KWLJYI",
        "outputId": "7e48980f-7d32-45b5-da3e-864f6ad96a68"
      },
      "execution_count": null,
      "outputs": [
        {
          "output_type": "stream",
          "name": "stdout",
          "text": [
            "4.305528719643369\n"
          ]
        },
        {
          "output_type": "display_data",
          "data": {
            "text/plain": [
              "<Figure size 432x288 with 1 Axes>"
            ],
            "image/png": "[encoded data removed]"
          },
          "metadata": {
            "needs_background": "light"
          }
        },
        {
          "output_type": "display_data",
          "data": {
            "text/plain": [
              "<Figure size 432x288 with 1 Axes>"
            ],
            "image/png": "[encoded data removed]"
          },
          "metadata": {
            "needs_background": "light"
          }
        }
      ]
    },
    {
      "cell_type": "code",
      "source": [
        "## California housing data\n",
        "\n",
        "data = pd.read_csv('/content/sample_data/california_housing_test.csv')\n",
        "d = np.array(data)\n",
        "for i in range(9):\n",
        "  d[:,i] = d[:,i]/np.sum(np.abs(d[:,i]))\n",
        "A_cal = d[:,0:8]\n",
        "y_cal = d[:,8]\n",
        "lamda = .1\n",
        "m_cal,n_cal = A_cal.shape\n",
        "f_opt_cal, x_opt_cal = Lasso_sklearn(A_cal,y_cal)"
      ],
      "metadata": {
        "colab": {
          "base_uri": "https://localhost:8080/"
        },
        "id": "kq9DbbRIBYwe",
        "outputId": "da7ac0c8-98cb-4239-fd03-4b42b30139cf"
      },
      "execution_count": 13,
      "outputs": [
        {
          "output_type": "execute_result",
          "data": {
            "text/plain": [
              "8"
            ]
          },
          "metadata": {},
          "execution_count": 13
        }
      ]
    },
    {
      "cell_type": "code",
      "source": [
        "### proximal GD California housing\n",
        "\n",
        "iterations = 1000\n",
        "np.random.seed(20)\n",
        "x_cal = 20*np.random.randn(iterations,n_cal)  ## random initialization\n",
        "Lasso_fun_val_cal = np.zeros(iterations)  ## variable to store function value\n",
        "Lasso_iterate_val_cal = np.zeros(iterations)  ## Variable to store iterate convergence\n",
        "alpha = .1       ## Hyper parameter for Prox GD\n",
        "lr = 0.385      ## Learning rate\n",
        "Lasso_fun_val_cal[0] = Lasso_function(A_cal,x_cal[0],y_cal)/m_cal\n",
        "Lasso_iterate_val_cal[0] = np.linalg.norm(x_cal[0]-x_opt_cal,2)**2/np.linalg.norm(x_cal[0],2)**2\n",
        "for i in range(1,iterations):\n",
        "  # lr = lr1*2/(i+2)\n",
        "  x1 = x_cal[i-1] - lr*Lasso_gradient_f(A_cal,x_cal[i-1],y_cal)  ## GD update\n",
        "  x_cal[i] = Lasso_prox_operator(x1,alpha)           ## Prox operator\n",
        "  Lasso_fun_val_cal[i] = Lasso_function(A_cal,x_cal[i],y_cal)/m_cal\n",
        "  Lasso_iterate_val_cal[i] = np.linalg.norm((x_cal[i]-x_opt_cal),2)**2/np.linalg.norm(x_cal[0],2)**2 \n",
        "\n",
        "axis = np.linspace(0,iterations-1,iterations)\n",
        "plt.semilogy(axis,np.abs(Lasso_fun_val_cal -f_opt_cal)/Lasso_fun_val_cal[0])\n",
        "plt.xlim([1,iterations])\n",
        "plt.xlabel('Iterations')\n",
        "plt.ylabel(r'$\\frac{f(x_k) - f^*}{f(x_0)}$')\n",
        "plt.title('Suboptimality gap')\n",
        "plt.savefig('Suboptimality_gap_LASSO_california.eps')\n",
        "files.download('Suboptimality_gap_LASSO_california.eps')\n",
        "\n",
        "plt.figure()\n",
        "plt.semilogy(axis,Lasso_iterate_val_cal)\n",
        "plt.xlim([0,iterations])\n",
        "# plt.ylim([1e-5,1e-1])\n",
        "plt.xlabel('Iterations')\n",
        "plt.ylabel(r'$\\frac{||x_k - x^*||_2^2}{||x_0||_2^2}$')\n",
        "plt.title('Iterate convergence')\n",
        "plt.savefig('Iterate_convergence_LASSO_california.eps')\n",
        "files.download('Iterate_convergence_LASSO_california.eps')"
      ],
      "metadata": {
        "colab": {
          "base_uri": "https://localhost:8080/",
          "height": 573
        },
        "id": "o-yeYzgxMcgx",
        "outputId": "5027d745-4d24-4399-dab7-c4b3f2373a17"
      },
      "execution_count": 10,
      "outputs": [
        {
          "output_type": "display_data",
          "data": {
            "text/plain": [
              "<IPython.core.display.Javascript object>"
            ],
            "application/javascript": [
              "\n",
              "    async function download(id, filename, size) {\n",
              "      if (!google.colab.kernel.accessAllowed) {\n",
              "        return;\n",
              "      }\n",
              "      const div = document.createElement('div');\n",
              "      const label = document.createElement('label');\n",
              "      label.textContent = `Downloading \"${filename}\": `;\n",
              "      div.appendChild(label);\n",
              "      const progress = document.createElement('progress');\n",
              "      progress.max = size;\n",
              "      div.appendChild(progress);\n",
              "      document.body.appendChild(div);\n",
              "\n",
              "      const buffers = [];\n",
              "      let downloaded = 0;\n",
              "\n",
              "      const channel = await google.colab.kernel.comms.open(id);\n",
              "      // Send a message to notify the kernel that we're ready.\n",
              "      channel.send({})\n",
              "\n",
              "      for await (const message of channel.messages) {\n",
              "        // Send a message to notify the kernel that we're ready.\n",
              "        channel.send({})\n",
              "        if (message.buffers) {\n",
              "          for (const buffer of message.buffers) {\n",
              "            buffers.push(buffer);\n",
              "            downloaded += buffer.byteLength;\n",
              "            progress.value = downloaded;\n",
              "          }\n",
              "        }\n",
              "      }\n",
              "      const blob = new Blob(buffers, {type: 'application/binary'});\n",
              "      const a = document.createElement('a');\n",
              "      a.href = window.URL.createObjectURL(blob);\n",
              "      a.download = filename;\n",
              "      div.appendChild(a);\n",
              "      a.click();\n",
              "      div.remove();\n",
              "    }\n",
              "  "
            ]
          },
          "metadata": {}
        },
        {
          "output_type": "display_data",
          "data": {
            "text/plain": [
              "<IPython.core.display.Javascript object>"
            ],
            "application/javascript": [
              "download(\"download_80e559af-c6f8-4964-b32a-5302896e8343\", \"Suboptimality_gap_LASSO_california.eps\", 24890)"
            ]
          },
          "metadata": {}
        },
        {
          "output_type": "display_data",
          "data": {
            "text/plain": [
              "<IPython.core.display.Javascript object>"
            ],
            "application/javascript": [
              "\n",
              "    async function download(id, filename, size) {\n",
              "      if (!google.colab.kernel.accessAllowed) {\n",
              "        return;\n",
              "      }\n",
              "      const div = document.createElement('div');\n",
              "      const label = document.createElement('label');\n",
              "      label.textContent = `Downloading \"${filename}\": `;\n",
              "      div.appendChild(label);\n",
              "      const progress = document.createElement('progress');\n",
              "      progress.max = size;\n",
              "      div.appendChild(progress);\n",
              "      document.body.appendChild(div);\n",
              "\n",
              "      const buffers = [];\n",
              "      let downloaded = 0;\n",
              "\n",
              "      const channel = await google.colab.kernel.comms.open(id);\n",
              "      // Send a message to notify the kernel that we're ready.\n",
              "      channel.send({})\n",
              "\n",
              "      for await (const message of channel.messages) {\n",
              "        // Send a message to notify the kernel that we're ready.\n",
              "        channel.send({})\n",
              "        if (message.buffers) {\n",
              "          for (const buffer of message.buffers) {\n",
              "            buffers.push(buffer);\n",
              "            downloaded += buffer.byteLength;\n",
              "            progress.value = downloaded;\n",
              "          }\n",
              "        }\n",
              "      }\n",
              "      const blob = new Blob(buffers, {type: 'application/binary'});\n",
              "      const a = document.createElement('a');\n",
              "      a.href = window.URL.createObjectURL(blob);\n",
              "      a.download = filename;\n",
              "      div.appendChild(a);\n",
              "      a.click();\n",
              "      div.remove();\n",
              "    }\n",
              "  "
            ]
          },
          "metadata": {}
        },
        {
          "output_type": "display_data",
          "data": {
            "text/plain": [
              "<IPython.core.display.Javascript object>"
            ],
            "application/javascript": [
              "download(\"download_ac100ff1-a4a2-4af5-a0f2-aff95c07b1c6\", \"Iterate_convergence_LASSO_california.eps\", 23602)"
            ]
          },
          "metadata": {}
        },
        {
          "output_type": "display_data",
          "data": {
            "text/plain": [
              "<Figure size 432x288 with 1 Axes>"
            ],
            "image/png": "[encoded data removed]"
          },
          "metadata": {
            "needs_background": "light"
          }
        },
        {
          "output_type": "display_data",
          "data": {
            "text/plain": [
              "<Figure size 432x288 with 1 Axes>"
            ],
            "image/png": "[encoded data removed]"
          },
          "metadata": {
            "needs_background": "light"
          }
        }
      ]
    },
    {
      "cell_type": "markdown",
      "source": [
        "The ridge regression problem can be expressed as an equivalent constrained optimization problem\n",
        "$$\n",
        "\\underset{\\bf x}{\\rm minimize} \\,\\, f({\\bf x}) = \\frac{1}{2}\\| {\\bf A}{\\bf x} - {\\bf b}\\|_2^2 \n",
        "$$\n",
        "subject to\n",
        "$$\n",
        "\\| {\\bf x}\\|_2 \\leq t.\n",
        "$$\n"
      ],
      "metadata": {
        "id": "0G1q3-3D5mkg"
      }
    },
    {
      "cell_type": "code",
      "source": [
        "def l2_projection_operator(x,t):\n",
        "  if(np.linalg.norm(x)> t):\n",
        "    x = t*x/np.linalg.norm(x)\n",
        "  return x "
      ],
      "metadata": {
        "id": "YIclJ5HDqaTh"
      },
      "execution_count": 11,
      "outputs": []
    },
    {
      "cell_type": "code",
      "source": [
        "## Ridge regression solution using sklearn\n",
        "\n",
        "def Ridge_sklearn(A,y,alp):\n",
        "  model = Ridge(alpha = alp)\n",
        "  model.fit(A,y)\n",
        "  x_lasso = model.coef_\n",
        "  Lasso_f_opt = Lasso_function(A,x_lasso,y)\n",
        "  print(Lasso_f_opt)\n",
        "  return Lasso_f_opt, x_lasso\n",
        "# Ridge_sklearn(A,y)"
      ],
      "metadata": {
        "id": "DCQXymzpsUm6"
      },
      "execution_count": 52,
      "outputs": []
    },
    {
      "cell_type": "code",
      "source": [
        "## sythentic data generation\n",
        "\n",
        "n = 10             ## dimension of feature vector\n",
        "np.random.seed(20)\n",
        "A = np.random.randn(n,n) ## Data matrix\n",
        "x_true = 5*np.random.randn(n)\n",
        "y = np.dot(A,x_true)\n",
        "Lasso_f_opt = 0"
      ],
      "metadata": {
        "id": "R0ihIijsp9yI"
      },
      "execution_count": 13,
      "outputs": []
    },
    {
      "cell_type": "code",
      "source": [
        "### Projected gradient descent\n",
        "\n",
        "iterations = 1000\n",
        "np.random.seed(20)\n",
        "x_proj = np.random.randn(iterations,n)  ## random initialization\n",
        "Ridge_fun_val_proj = np.zeros(iterations)  ## variable to store function value\n",
        "Ridge_iterate_val_proj = np.zeros(iterations)  ## Variable to store iterate convergence\n",
        "t = 15       ## Hyper parameter for Proj GD\n",
        "lr = 0.0003      ## Learning rate\n",
        "Ridge_fun_val_proj[0] = Lasso_function(A,x_proj[0],y)\n",
        "Ridge_iterate_val_proj[0] = np.linalg.norm(x_proj[0],2)**2\n",
        "for i in range(1,iterations):\n",
        "  # lr = lr1*2/(i+2)\n",
        "  x1 = x_proj[i-1] - lr*Lasso_gradient_f(A,x_proj[i-1],y)  ## GD update\n",
        "  x_proj[i] = l2_projection_operator(x1,t)           ## Prox operator\n",
        "  Ridge_fun_val_proj[i] = Lasso_function(A,x_proj[i],y)\n",
        "  Ridge_iterate_val_proj[i] = np.linalg.norm((x_proj[i] - x_proj[i-1]),2)**2 \n",
        "\n",
        "axis = np.linspace(0,iterations-1,iterations)\n",
        "plt.semilogy(axis,np.abs(Ridge_fun_val_proj)/Ridge_fun_val_proj[0])\n",
        "plt.xlim([1,iterations])\n",
        "plt.xlabel('Iterations')\n",
        "plt.ylabel(r'$\\frac{f(x_k) }{f(x_0)}$')\n",
        "plt.title('Suboptimality gap')\n",
        "plt.savefig('Suboptimality_gap_LASSO_synthetic_proj_GD.eps')\n",
        "files.download('Suboptimality_gap_LASSO_synthetic_proj_GD.eps')\n",
        "\n",
        "plt.figure()\n",
        "plt.semilogy(axis,Ridge_iterate_val_proj)\n",
        "plt.xlim([0,iterations])\n",
        "plt.ylim([1e-5,1e-2])\n",
        "plt.xlabel('Iterations')\n",
        "plt.grid()\n",
        "plt.ylabel(r'${||x_k - x_{k-1}||_2^2}$')\n",
        "plt.title('Iterate convergence')\n",
        "plt.savefig('Iterate_convergence_LASSO_synthetic_proj_GD.eps')\n",
        "files.download('Iterate_convergence_LASSO_synthetic_proj_GD.eps')\n"
      ],
      "metadata": {
        "colab": {
          "base_uri": "https://localhost:8080/",
          "height": 295
        },
        "id": "NPKmaqxApBBR",
        "outputId": "fd342b10-0a66-4285-b80a-8ad8148b0f47"
      },
      "execution_count": 139,
      "outputs": [
        {
          "output_type": "display_data",
          "data": {
            "text/plain": [
              "<Figure size 432x288 with 1 Axes>"
            ],
            "image/png": "[encoded data removed]"
          },
          "metadata": {
            "needs_background": "light"
          }
        }
      ]
    },
    {
      "cell_type": "code",
      "source": [
        "### Projected gradient descent on california housing dataset\n",
        "\n",
        "iterations = 1000\n",
        "np.random.seed(20)\n",
        "x_proj_cal = np.random.randn(iterations,n_cal)  ## random initialization\n",
        "Ridge_fun_val_proj_cal = np.zeros(iterations)  ## variable to store function value\n",
        "Ridge_iterate_val_proj_cal = np.zeros(iterations)  ## Variable to store iterate convergence\n",
        "t_cal = 100       ## Hyper parameter for Proj GD\n",
        "lr_cal = 0.9      ## Learning rate\n",
        "Ridge_fun_val_proj_cal[0] = Lasso_function(A_cal,x_proj_cal[0],y_cal)\n",
        "Ridge_iterate_val_proj_cal[0] = np.linalg.norm(x_proj_cal[0],2)**2\n",
        "for i in range(1,iterations):\n",
        "  # lr = lr1*2/(i+2)\n",
        "  x1 = x_proj_cal[i-1] - lr_cal*Lasso_gradient_f(A_cal,x_proj_cal[i-1],y_cal)  ## GD update\n",
        "  x_proj_cal[i] = l2_projection_operator(x1,t_cal)           ## Prox operator\n",
        "  Ridge_fun_val_proj_cal[i] = Lasso_function(A_cal,x_proj_cal[i],y_cal)\n",
        "  Ridge_iterate_val_proj_cal[i] = np.linalg.norm((x_proj_cal[i] - x_proj_cal[i-1]),2)**2 \n",
        "\n",
        "axis = np.linspace(0,iterations-1,iterations)\n",
        "plt.semilogy(axis,np.abs(Ridge_fun_val_proj_cal)/Ridge_fun_val_proj_cal[0])\n",
        "plt.xlim([1,iterations])\n",
        "plt.xlabel('Iterations')\n",
        "plt.ylabel(r'$\\frac{f(x_k)}{f(x_0)}$')\n",
        "plt.title('Suboptimality gap')\n",
        "plt.grid()\n",
        "plt.savefig('Suboptimality_gap_LASSO_california_proj_GD.eps')\n",
        "files.download('Suboptimality_gap_LASSO_california_proj_GD.eps')\n",
        "\n",
        "plt.figure()\n",
        "plt.semilogy(axis,Ridge_iterate_val_proj_cal)\n",
        "plt.xlim([0,iterations])\n",
        "plt.ylim([1e-7,5e-5])\n",
        "plt.xlabel('Iterations')\n",
        "plt.ylabel(r'${||x_k - x_{k-1}||_2^2}$')\n",
        "plt.title('Iterate convergence')\n",
        "plt.grid()\n",
        "plt.savefig('Iterate_convergence_LASSO_california_proj_GD.eps')\n",
        "files.download('Iterate_convergence_LASSO_california_proj_GD.eps')"
      ],
      "metadata": {
        "colab": {
          "base_uri": "https://localhost:8080/",
          "height": 295
        },
        "id": "QIWwuK8ZqWFb",
        "outputId": "be7ec399-e3c5-4b1e-8518-1647928078d2"
      },
      "execution_count": 138,
      "outputs": [
        {
          "output_type": "display_data",
          "data": {
            "text/plain": [
              "<Figure size 432x288 with 1 Axes>"
            ],
            "image/png": "[encoded data removed]"
          },
          "metadata": {
            "needs_background": "light"
          }
        }
      ]
    },
    {
      "cell_type": "markdown",
      "source": [
        "The matrix completion problem can be formulated as,\n",
        "\\begin{equation*}\n",
        "    \\frac{1}{N}||\\mathbf{X}_k-\\mathbf{A}||_F^2 \\quad \\mathrm{s.to}\\quad  ||\\mathbf{X}_k||_*\\leq R,\n",
        "\\end{equation*}"
      ],
      "metadata": {
        "id": "G3-bMUJL5utw"
      }
    },
    {
      "cell_type": "code",
      "metadata": {
        "id": "L9CiVQXZd2z0",
        "colab": {
          "base_uri": "https://localhost:8080/"
        },
        "outputId": "6b65eba6-2212-4c46-df8a-5235dba38f27"
      },
      "source": [
        "## Projected GD on Movie lens dataset\n",
        "\n",
        "m = 943\n",
        "n = 1682\n",
        "data = pd.read_table('http://files.grouplens.org/datasets/movielens/ml-100k/u.data')\n",
        "X0 = np.asmatrix(data)\n",
        "s1 = X0.size\n",
        "X2 = np.array(X0)\n",
        "m1 ,n1  = X2.shape\n",
        "\n",
        "X = np.zeros((m,n),dtype='float')\n",
        "X1 = np.zeros((m,n),dtype='float')\n",
        "index = np.zeros((m,n),dtype='int')\n",
        "index1 = np.zeros((m,n),dtype='int')\n",
        "for i in range(m1):\n",
        "  a1 = X2[i,0]\n",
        "  a2 = X2[i,1]\n",
        "  index[a1-1,a2-1] = 1\n",
        "  X1[a1-1,a2-1] = X2[i,2]\n",
        "  if (np.random.randint(0,2,1)==1):\n",
        "    X[a1-1,a2-1] = X2[i,2]\n",
        "    index1[a1-1,a2-1] = 1\n",
        "index2 = index - index1\n",
        "s2 = np.count_nonzero(X1)\n",
        "print(s1,s2)\n",
        "X3 = X1*index2\n",
        "count = np.sum(index)\n",
        "print('count', count)"
      ],
      "execution_count": 2,
      "outputs": [
        {
          "output_type": "stream",
          "name": "stdout",
          "text": [
            "399996 99999\n",
            "count 99999\n"
          ]
        }
      ]
    },
    {
      "cell_type": "code",
      "source": [
        "def f(A):\n",
        "  A1 = A*index\n",
        "  g = 0.5*np.linalg.norm(A1-X1,'fro')**2\n",
        "  return g/count\n",
        "\n",
        "def projection(Z,R):\n",
        "  U = np.zeros((m,m))\n",
        "  V = np.zeros((n,n))\n",
        "  a = np.zeros(m)\n",
        "  # U[:,:R],S,V[:R,:] = svds(Z,k=R)\n",
        "  # a[:R] = S\n",
        "  U,S,V = np.linalg.svd(Z)\n",
        "  # a = np.where(S>R,S,0)\n",
        "  sum = 0\n",
        "  for i in range(m):\n",
        "    sum = sum + S[i]\n",
        "    if(sum <= R):\n",
        "      a[i] = S[i]\n",
        "  A = np.zeros((m,n))\n",
        "  np.fill_diagonal(A,a) \n",
        "  return np.dot(U,np.dot(A,V.T))"
      ],
      "metadata": {
        "id": "VR4fnVfByVIL"
      },
      "execution_count": 3,
      "outputs": []
    },
    {
      "cell_type": "code",
      "source": [
        "## Projected GD for movie lens dataset\n",
        "\n",
        "iterations = 200\n",
        "R = 120  ## Trace norm constraint\n",
        "Z_pg = np.zeros((m,n))\n",
        "f_val_pg = np.zeros(iterations)\n",
        "f_val_pg[0] = f(Z_pg)\n",
        "for i in range(1,iterations):\n",
        "  eta = 500\n",
        "  grad= (Z_pg - X1)*index/count\n",
        "  Z1 = Z_pg\n",
        "  Z_pg = Z_pg - eta*grad\n",
        "  Z_pg = np.where(Z_pg>5,5,Z_pg)\n",
        "  Z_pg = np.where(Z_pg<0,0,Z_pg)\n",
        "  Z_pg = projection(Z_pg,R)\n",
        "  # Z_pg = np.ceil(Z_pg)\n",
        "  # print(np.linalg.matrix_rank(Z_pg))\n",
        "  f_val_pg[i] = f(Z_pg)\n",
        "axis = np.linspace(0,iterations-1,iterations)\n",
        "plt.semilogy(axis,f_val_pg) \n",
        "plt.xlim([0,iterations])\n",
        "plt.ylim([6.83,6.87])\n",
        "plt.xlabel('Iterations')\n",
        "plt.ylabel(r'${||\\mathbf{X}_k - A||_2^2}$')\n",
        "plt.title('Suboptimality gap')\n",
        "# plt.grid()\n",
        "plt.savefig('Suboptimality_gap_MovieLens_proj_GD.eps')\n",
        "files.download('Suboptimality_gap_MovieLens_proj_GD.eps')"
      ],
      "metadata": {
        "colab": {
          "base_uri": "https://localhost:8080/",
          "height": 295
        },
        "id": "gz4AZ0PMo54z",
        "outputId": "253124e8-c8d6-472a-d6ff-37b8fa49af13"
      },
      "execution_count": 10,
      "outputs": [
        {
          "output_type": "display_data",
          "data": {
            "text/plain": [
              "<IPython.core.display.Javascript object>"
            ],
            "application/javascript": [
              "\n",
              "    async function download(id, filename, size) {\n",
              "      if (!google.colab.kernel.accessAllowed) {\n",
              "        return;\n",
              "      }\n",
              "      const div = document.createElement('div');\n",
              "      const label = document.createElement('label');\n",
              "      label.textContent = `Downloading \"${filename}\": `;\n",
              "      div.appendChild(label);\n",
              "      const progress = document.createElement('progress');\n",
              "      progress.max = size;\n",
              "      div.appendChild(progress);\n",
              "      document.body.appendChild(div);\n",
              "\n",
              "      const buffers = [];\n",
              "      let downloaded = 0;\n",
              "\n",
              "      const channel = await google.colab.kernel.comms.open(id);\n",
              "      // Send a message to notify the kernel that we're ready.\n",
              "      channel.send({})\n",
              "\n",
              "      for await (const message of channel.messages) {\n",
              "        // Send a message to notify the kernel that we're ready.\n",
              "        channel.send({})\n",
              "        if (message.buffers) {\n",
              "          for (const buffer of message.buffers) {\n",
              "            buffers.push(buffer);\n",
              "            downloaded += buffer.byteLength;\n",
              "            progress.value = downloaded;\n",
              "          }\n",
              "        }\n",
              "      }\n",
              "      const blob = new Blob(buffers, {type: 'application/binary'});\n",
              "      const a = document.createElement('a');\n",
              "      a.href = window.URL.createObjectURL(blob);\n",
              "      a.download = filename;\n",
              "      div.appendChild(a);\n",
              "      a.click();\n",
              "      div.remove();\n",
              "    }\n",
              "  "
            ]
          },
          "metadata": {}
        },
        {
          "output_type": "display_data",
          "data": {
            "text/plain": [
              "<IPython.core.display.Javascript object>"
            ],
            "application/javascript": [
              "download(\"download_2a9bae72-30de-4fa5-8e3b-feb1dfde3bdb\", \"Suboptimality_gap_MovieLens_proj_GD.eps\", 32763)"
            ]
          },
          "metadata": {}
        },
        {
          "output_type": "display_data",
          "data": {
            "text/plain": [
              "<Figure size 432x288 with 1 Axes>"
            ],
            "image/png": "[encoded data removed]"
          },
          "metadata": {
            "needs_background": "light"
          }
        }
      ]
    }
  ]
}